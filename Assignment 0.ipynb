{
 "cells": [
  {
   "cell_type": "raw",
   "id": "df7bb8ee-2ae7-4076-9063-994c52ab131b",
   "metadata": {},
   "source": [
    "Assignment 0\n",
    "Name: -- Ortiz Porras Juan Pablo --\n",
    "\n",
    "e-mail: -- juan.ortiz4968@alumnos.udg.mx --"
   ]
  },
  {
   "cell_type": "markdown",
   "id": "b3b90b87",
   "metadata": {},
   "source": [
    "MODULES"
   ]
  },
  {
   "cell_type": "code",
   "execution_count": 5,
   "id": "8608dfbd-a88b-4299-aff8-5cf982c65ed1",
   "metadata": {},
   "outputs": [],
   "source": [
    "# Load modules\n",
    "import numpy as np\n",
    "import matplotlib.pyplot as plt\n",
    "from mpl_toolkits.mplot3d import Axes3D\n",
    "\n"
   ]
  },
  {
   "cell_type": "markdown",
   "id": "5e08587c",
   "metadata": {},
   "source": [
    "Theory on the Gradient Descent algorithm"
   ]
  },
  {
   "cell_type": "code",
   "execution_count": 7,
   "id": "245d26fd-a524-4df0-907a-d08e3f1671c9",
   "metadata": {},
   "outputs": [],
   "source": [
    "# Function to be optimized\n",
    "\n",
    "def func(x, y):\n",
    "    return x**2 - 4*x + 3 + y**2\n",
    "\n",
    "#Gradient: The gradient is calculated by taking the partial derivatives with respect to x & 𝑦\n",
    "\n",
    "def gradient(x, y):\n",
    "    df_dx = 2*x - 4\n",
    "    df_dy = 2*y\n",
    "    return np.array([df_dx, df_dy])"
   ]
  },
  {
   "cell_type": "code",
   "execution_count": null,
   "id": "23570a0b-fa59-41f2-b8cb-8ab367202432",
   "metadata": {},
   "outputs": [],
   "source": [
    "# Run gradient descent algorithm\n"
   ]
  },
  {
   "cell_type": "code",
   "execution_count": null,
   "id": "c4e40204-6583-4125-b2f7-81a91f4f7599",
   "metadata": {},
   "outputs": [],
   "source": [
    "# Plot the results"
   ]
  },
  {
   "cell_type": "code",
   "execution_count": 15,
   "id": "0498229b-4588-481e-9200-591a7aa9cd9b",
   "metadata": {},
   "outputs": [],
   "source": [
    "# Plot the results"
   ]
  }
 ],
 "metadata": {
  "kernelspec": {
   "display_name": "Python 3 (ipykernel)",
   "language": "python",
   "name": "python3"
  },
  "language_info": {
   "codemirror_mode": {
    "name": "ipython",
    "version": 3
   },
   "file_extension": ".py",
   "mimetype": "text/x-python",
   "name": "python",
   "nbconvert_exporter": "python",
   "pygments_lexer": "ipython3",
   "version": "3.12.5"
  }
 },
 "nbformat": 4,
 "nbformat_minor": 5
}
